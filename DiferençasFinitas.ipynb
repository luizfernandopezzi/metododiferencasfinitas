{
  "nbformat": 4,
  "nbformat_minor": 0,
  "metadata": {
    "colab": {
      "name": "DiferençasFinitas",
      "provenance": [],
      "collapsed_sections": []
    },
    "kernelspec": {
      "name": "python3",
      "display_name": "Python 3"
    },
    "language_info": {
      "name": "python"
    }
  },
  "cells": [
    {
      "cell_type": "code",
      "execution_count": 9,
      "metadata": {
        "id": "bXaU_60fzzz6"
      },
      "outputs": [],
      "source": [
        "import numpy as np\n",
        "import pandas as pd"
      ]
    },
    {
      "cell_type": "code",
      "source": [
        "import pylab as pl"
      ],
      "metadata": {
        "id": "RWtZlLBF0Etc"
      },
      "execution_count": 3,
      "outputs": []
    },
    {
      "cell_type": "markdown",
      "source": [
        "# Cálculo da Primeira Derivada para x = 1, variando deltaX de 0.5 até 0.015625.\n",
        "## Série de Taylor:\n",
        "\n",
        "fx_dx = fx + deltaX * (dfx)\n",
        "\n",
        "## DDS: Downstream Differencing Scheme (Diferença Finita Adiantada)\n",
        "## UDS: Upstream Differencing Scheme (Diferença Finita Atrasada)\n",
        "## CDS: Central Diferrencing Scheme (Diferença Finita Central)\n"
      ],
      "metadata": {
        "id": "CCT3eKe34agb"
      }
    },
    {
      "cell_type": "code",
      "source": [
        "x = 1\n",
        "deltaX = 0.5\n",
        "deltaXmin = 0.01\n",
        "\n",
        "\n",
        "dfp_analitics = -np.sin(x)\n",
        "\n",
        "solution = {}\n",
        "\n",
        "while deltaX > deltaXmin:\n",
        "  w = x - deltaX\n",
        "  p = x\n",
        "  e = x + deltaX\n",
        "\n",
        "  fxw = np.cos(w)\n",
        "  fxp = np.cos(p)\n",
        "  fxe = np.cos(e)\n",
        "\n",
        "  dfp_dds = (fxe - fxp) / deltaX\n",
        "  err_rel_dds = ( (abs(dfp_dds) - abs(dfp_analitics)) / dfp_analitics) * 100\n",
        "\n",
        "  dfp_uds = (fxp - fxw)/deltaX\n",
        "  err_rel_uds = ( (abs(dfp_uds) - abs(dfp_analitics)) / dfp_analitics) * 100\n",
        "\n",
        "  dfp_cds = (fxe - fxw)/(2 * deltaX)\n",
        "  err_rel_cds = ( (abs(dfp_cds) - abs(dfp_analitics)) / dfp_analitics) * 100\n",
        "\n",
        "  solution[deltaX] = {'DDS':  dfp_dds, 'UDS': dfp_uds, 'CDS': dfp_cds, 'Analitic': dfp_analitics, 'Erro Relativo DDS': err_rel_dds, 'Erro Relativo UDS': err_rel_uds, 'Erro Relativo CDS': err_rel_cds}\n",
        "  deltaX = deltaX/2"
      ],
      "metadata": {
        "id": "R6HYRS1ZAg3n"
      },
      "execution_count": 4,
      "outputs": []
    },
    {
      "cell_type": "code",
      "source": [
        "data = pd.DataFrame.from_dict(solution)"
      ],
      "metadata": {
        "id": "Zvy0Y9BhBL1-"
      },
      "execution_count": 13,
      "outputs": []
    },
    {
      "cell_type": "code",
      "source": [
        "data.to_csv('solution.csv', index = True)"
      ],
      "metadata": {
        "id": "M32A2HiErOo9"
      },
      "execution_count": 14,
      "outputs": []
    },
    {
      "cell_type": "code",
      "source": [
        "X = np.linspace(-np.pi, np.pi, 256, endpoint=True)\n",
        "C, S = np.cos(X), -np.sin(X)\n",
        "\n",
        "#pl.xticks([-np.pi, -np.pi/2, 0, np.pi/2, np.pi],\n",
        "#          [r'$-\\pi$', r'$-\\pi/2$', r'$0$', r'$+\\pi/2$', r'$+\\pi$'])\n",
        "\n",
        "#pl.yticks([-1, 0, +1],\n",
        "#          [r'$-1$', r'$0$', r'$+1$'])\n",
        "\n",
        "ax = pl.gca()  # gca significa 'get current axis'\n",
        "ax.spines['right'].set_color('none')\n",
        "ax.spines['top'].set_color('none')\n",
        "ax.xaxis.set_ticks_position('bottom')\n",
        "ax.spines['bottom'].set_position(('data',0))\n",
        "ax.yaxis.set_ticks_position('left')\n",
        "ax.spines['left'].set_position(('data',0))\n",
        "\n",
        "pl.plot(X, S, color=\"blue\", linestyle=\"-\", label=\"cosine\")\n",
        "#pl.plot(X, S)\n",
        "\n",
        "pl.show()"
      ],
      "metadata": {
        "colab": {
          "base_uri": "https://localhost:8080/",
          "height": 248
        },
        "id": "IsFHA-pA0Muy",
        "outputId": "2c70f9f2-ef22-4519-9a50-d88ceaad4e17"
      },
      "execution_count": null,
      "outputs": [
        {
          "output_type": "display_data",
          "data": {
            "text/plain": [
              "<Figure size 432x288 with 1 Axes>"
            ],
            "image/png": "[encoded data removed]"
          },
          "metadata": {
            "needs_background": "light"
          }
        }
      ]
    },
    {
      "cell_type": "code",
      "source": [
        ""
      ],
      "metadata": {
        "id": "ZiHJT-AY0P_L"
      },
      "execution_count": null,
      "outputs": []
    }
  ]
}